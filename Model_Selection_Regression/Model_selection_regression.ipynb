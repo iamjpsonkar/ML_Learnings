{
 "cells": [
  {
   "cell_type": "markdown",
   "metadata": {},
   "source": [
    "## Load and Preprocess the dataset"
   ]
  },
  {
   "cell_type": "code",
   "execution_count": 43,
   "metadata": {},
   "outputs": [
    {
     "name": "stdout",
     "output_type": "stream",
     "text": [
      "[[  14.96   41.76 1024.07   73.17]\n",
      " [  25.18   62.96 1020.04   59.08]\n",
      " [   5.11   39.4  1012.16   92.14]\n",
      " ...\n",
      " [  31.32   74.33 1012.92   36.48]\n",
      " [  24.48   69.45 1013.86   62.39]\n",
      " [  21.6    62.52 1017.23   67.87]]\n",
      "[463.26 444.37 488.56 ... 429.57 435.74 453.28]\n"
     ]
    }
   ],
   "source": [
    "import numpy as np\n",
    "import matplotlib.pyplot as plt\n",
    "import pandas as pd\n",
    "\n",
    "dataset = pd.read_csv('../Datasets/Regression/Model_Selection_Regression/Data.csv')\n",
    "# print(dataset)\n",
    "\n",
    "X = dataset.iloc[:,:-1].values\n",
    "y = dataset.iloc[:,-1].values\n",
    "\n",
    "print(X)\n",
    "print(y)\n",
    "\n",
    "# Taking care of Missing values\n",
    "# from sklearn.impute import SimpleImputer \n",
    "# imputer = SimpleImputer(missing_values=np.nan, strategy='mean')\n",
    "# imputer.fit(X[:,:-1])\n",
    "# X[:,:-1] =  imputer.transform(X[:,:-1])\n",
    "# imputer = SimpleImputer(missing_values=np.nan, strategy='most_frequent')\n",
    "# imputer.fit(X[:,-2:-1])\n",
    "# X[:,-2:-1] =  imputer.transform(X[:,-2:-1])\n",
    "# print(X)\n",
    "\n",
    "# Encoding categorial Data [One Hot Encoding]\n",
    "# from sklearn.compose import ColumnTransformer\n",
    "# from sklearn.preprocessing import OneHotEncoder\n",
    "# ct = ColumnTransformer(transformers=[('encode',OneHotEncoder(),[-1])], remainder='passthrough')\n",
    "# X = np.array(ct.fit_transform(X))\n",
    "# # print(X)\n",
    "\n",
    "# Splitting dataset into train and test set\n",
    "from sklearn.model_selection import train_test_split\n",
    "X_train, X_test, y_train, y_test = train_test_split(X, y, test_size=0.2, random_state=1)"
   ]
  },
  {
   "cell_type": "markdown",
   "metadata": {},
   "source": [
    "## Training and predicting the Multiple Linear Regression Model on the training set"
   ]
  },
  {
   "cell_type": "code",
   "execution_count": 44,
   "metadata": {},
   "outputs": [
    {
     "name": "stdout",
     "output_type": "stream",
     "text": [
      "[457.25522108 466.71927366 440.36694911 ... 476.40502919 424.61609708\n",
      " 463.91141143]\n"
     ]
    }
   ],
   "source": [
    "from sklearn.linear_model import LinearRegression\n",
    "regressor = LinearRegression()\n",
    "regressor.fit(X_train, y_train)\n",
    "y_pred_MLR = regressor.predict(X_test)\n",
    "print(y_pred_MLR)"
   ]
  },
  {
   "cell_type": "markdown",
   "metadata": {},
   "source": [
    "## Training and predicting the Polynomial Regression Model on the training set"
   ]
  },
  {
   "cell_type": "code",
   "execution_count": 45,
   "metadata": {},
   "outputs": [
    {
     "name": "stdout",
     "output_type": "stream",
     "text": [
      "[456.08178926 462.80300914 438.32636632 ... 476.31568008 432.6794335\n",
      " 464.55561808]\n"
     ]
    }
   ],
   "source": [
    "from sklearn.preprocessing  import PolynomialFeatures\n",
    "from sklearn.linear_model import LinearRegression\n",
    "poly_fet = PolynomialFeatures(degree=4)\n",
    "poly_X = poly_fet.fit_transform(X_train)\n",
    "poly_reg =  LinearRegression()\n",
    "poly_reg.fit(poly_X,y_train)\n",
    "y_pred_PR = poly_reg.predict(poly_fet.fit_transform(X_test))\n",
    "print(y_pred_PR)"
   ]
  },
  {
   "cell_type": "markdown",
   "metadata": {},
   "source": [
    "## Training and predicting the Support Vector Regression Model on the training set"
   ]
  },
  {
   "cell_type": "code",
   "execution_count": 46,
   "metadata": {},
   "outputs": [
    {
     "name": "stdout",
     "output_type": "stream",
     "text": [
      "[ 0.15419743  0.5472489  -0.99023963 ...  1.29174246 -1.26142145\n",
      "  0.5822108 ]\n",
      "[456.98286871 463.66609133 437.52351516 ... 476.32503421 432.91249439\n",
      " 464.26056348]\n"
     ]
    }
   ],
   "source": [
    "from sklearn.preprocessing import StandardScaler\n",
    "\n",
    "sc_X = StandardScaler()\n",
    "sc_X.fit(X_train)\n",
    "X_sc = sc_X.transform(X_train)\n",
    "\n",
    "# reshape y\n",
    "y_sc = y_train.reshape((len(y_train),1))\n",
    "\n",
    "sc_y = StandardScaler()\n",
    "sc_y.fit(y_sc)\n",
    "y_sc = sc_y.transform(y_sc)\n",
    "\n",
    "# print(X_sc)\n",
    "# print(y_sc)\n",
    "\n",
    "from sklearn.svm import SVR\n",
    "regressor =  SVR(kernel='rbf')\n",
    "regressor.fit(X_sc,y_sc.ravel())\n",
    "\n",
    "y_pred_SVR = regressor.predict(sc_X.transform(X_test))\n",
    "print(y_pred_SVR)\n",
    "y_pred_SVR = sc_y.inverse_transform(y_pred_SVR.reshape(len(y_pred_SVR),1)).ravel()\n",
    "print(y_pred_SVR)"
   ]
  },
  {
   "cell_type": "markdown",
   "metadata": {},
   "source": [
    "## Training and predicting the Decision Tree Regression Model on the training set"
   ]
  },
  {
   "cell_type": "code",
   "execution_count": 47,
   "metadata": {},
   "outputs": [
    {
     "name": "stdout",
     "output_type": "stream",
     "text": [
      "[459.65 462.26 436.03 ... 477.18 432.78 468.23]\n"
     ]
    }
   ],
   "source": [
    "from sklearn.tree import DecisionTreeRegressor\n",
    "regressor = DecisionTreeRegressor(random_state=0)\n",
    "regressor.fit(X_train,y_train)\n",
    "y_pred_DTR = regressor.predict(X_test)\n",
    "print(y_pred_DTR)"
   ]
  },
  {
   "cell_type": "markdown",
   "metadata": {},
   "source": [
    "## Training and predicting the Random Forest Regression Model on the training set"
   ]
  },
  {
   "cell_type": "code",
   "execution_count": 48,
   "metadata": {},
   "outputs": [
    {
     "name": "stdout",
     "output_type": "stream",
     "text": [
      "[457.902 464.072 439.721 ... 476.177 432.897 466.106]\n"
     ]
    }
   ],
   "source": [
    "from sklearn.ensemble import RandomForestRegressor\n",
    "regressor = RandomForestRegressor(n_estimators=10, random_state=0)\n",
    "regressor.fit(X_train,y_train)\n",
    "y_pred_RFR = regressor.predict(X_test)\n",
    "print(y_pred_RFR)"
   ]
  },
  {
   "cell_type": "markdown",
   "metadata": {},
   "source": [
    "## R-Square Comparision for All model\n"
   ]
  },
  {
   "cell_type": "code",
   "execution_count": 49,
   "metadata": {},
   "outputs": [
    {
     "name": "stdout",
     "output_type": "stream",
     "text": [
      "Multiple Linear Regression : 0.9321860060402447\n",
      "Polynomial Regression : 0.9447340594673367\n",
      "Support Vector Regression : 0.9479978713795594\n",
      "Decision Tree Regression : 0.9342783714449767\n",
      "Random Forest Regression : 0.9628673278135129\n"
     ]
    }
   ],
   "source": [
    "from sklearn.metrics import r2_score\n",
    "R2S = {}\n",
    "R2S['Multiple Linear Regression'] = r2_score(y_test, y_pred_MLR)\n",
    "R2S['Polynomial Regression'] = r2_score(y_test, y_pred_PR)\n",
    "R2S['Support Vector Regression'] = r2_score(y_test, y_pred_SVR)\n",
    "R2S['Decision Tree Regression'] = r2_score(y_test, y_pred_DTR)\n",
    "R2S['Random Forest Regression'] = r2_score(y_test, y_pred_RFR)\n",
    "\n",
    "for method in R2S:\n",
    "    print(method,\":\",R2S[method])"
   ]
  }
 ],
 "metadata": {
  "kernelspec": {
   "display_name": "Python 3.10.6 ('mlvenv': venv)",
   "language": "python",
   "name": "python3"
  },
  "language_info": {
   "codemirror_mode": {
    "name": "ipython",
    "version": 3
   },
   "file_extension": ".py",
   "mimetype": "text/x-python",
   "name": "python",
   "nbconvert_exporter": "python",
   "pygments_lexer": "ipython3",
   "version": "3.10.6"
  },
  "orig_nbformat": 4,
  "vscode": {
   "interpreter": {
    "hash": "321334cedfa16b8be24125e5ab0e3623912f69d4b899407428e8bc07c2d3a5b0"
   }
  }
 },
 "nbformat": 4,
 "nbformat_minor": 2
}
