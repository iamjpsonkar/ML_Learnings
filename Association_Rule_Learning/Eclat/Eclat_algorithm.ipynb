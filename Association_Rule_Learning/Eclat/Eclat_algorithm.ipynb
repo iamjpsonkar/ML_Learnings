{
 "cells": [
  {
   "cell_type": "markdown",
   "metadata": {},
   "source": [
    "## Association Rule Learning\n",
    "let's take below statements\n",
    "\n",
    ">Person Who watched Movie1 also watches Movie2.\n",
    "\n",
    ">Person Who bought product1 also buys product2.\n",
    "\n",
    "The above two statement are in the form \n",
    "\n",
    "$$ S_{1} \\rightarrow S_{2} $$\n",
    "\n",
    "<img src=\"../Movie_Recommendation.png\"/>\n",
    "\n",
    "<img src=\"../Product_Recommendation.png\"/>\n",
    "\n",
    "This type of statement are know as **Association Rule** , Basically we are associating S<sub>2</sub> with S<sub>1</sub>.\n",
    "\n",
    "These type of rules basically help in recommendation system.\n",
    "\n",
    "\n",
    "## ECLAT Association Rule Learning\n",
    "\n",
    "Eclat, is very simillar to Apriori Algorithm. It is a simpler form of Apriori Algorithm.\n",
    "\n",
    "This also works as a recommendation system.\n",
    "\n",
    "In Apriori Algorithm, we work on potential rules\n",
    "\n",
    "$$ A \\rightarrow B  $$\n",
    "\n",
    "However, in ECLAT, we basically work on sets, So if we have,\n",
    "\n",
    "$$ S_{1} = \\{ A,B,C \\} $$\n",
    "$$ S_{2} = \\{ A,B,D \\} $$\n",
    "$$ S_{3} = \\{ C,E,D \\} $$\n",
    "$$ S_{4} = \\{ A,E,B \\} $$\n",
    "$$ S_{5} = \\{ A,B \\} $$\n",
    "\n",
    "On the basis of above 6 sets, we can see A and B are 100% times in the same set, So we can Reccomend A and B together.\n",
    "\n",
    "In Eclat, we only have Support, **Eclat Support**\n",
    "\n",
    "<img src=\"./Eclat_Support.png\" />\n",
    "\n",
    "**Where M and I are set of items**\n",
    "\n",
    "Steps for Eclat\n",
    "\n",
    "<img src=\"./Eclat_Steps.png\" />\n",
    "\n"
   ]
  },
  {
   "cell_type": "code",
   "execution_count": 1,
   "metadata": {},
   "outputs": [],
   "source": [
    "# Importing Libraries\n",
    "import numpy as np\n",
    "import pandas as pd\n",
    "import matplotlib.pyplot as plt\n",
    "\n",
    "# Importing Datasets\n",
    "dataset = pd.read_csv(\"./Datasets/Market_Basket_Optimisation.csv\", header = None)\n",
    "\n",
    "transactions = []\n",
    "for i in range(dataset.shape[0]):\n",
    "    transactions.append([str(dataset.values[i, j]) for j in range(dataset.shape[1])])\n",
    "\n",
    "# print(transactions)"
   ]
  },
  {
   "cell_type": "markdown",
   "metadata": {},
   "source": [
    "### Training Eclat Model on the dataset"
   ]
  },
  {
   "cell_type": "code",
   "execution_count": 2,
   "metadata": {},
   "outputs": [],
   "source": [
    "from apyori import apriori\n",
    "rules = apriori(transactions = transactions, min_support = 0.003, min_confidence = 0.2, min_lift = 3, min_length = 2, max_length = 2)"
   ]
  },
  {
   "cell_type": "markdown",
   "metadata": {},
   "source": [
    "### Visualizing the results"
   ]
  },
  {
   "cell_type": "markdown",
   "metadata": {},
   "source": [
    "#### Displaying the firsts result directly comming from apriori funtion"
   ]
  },
  {
   "cell_type": "code",
   "execution_count": 3,
   "metadata": {},
   "outputs": [
    {
     "name": "stdout",
     "output_type": "stream",
     "text": [
      "[RelationRecord(items=frozenset({'chicken', 'light cream'}), support=0.004532728969470737, ordered_statistics=[OrderedStatistic(items_base=frozenset({'light cream'}), items_add=frozenset({'chicken'}), confidence=0.29059829059829057, lift=4.84395061728395)]), RelationRecord(items=frozenset({'escalope', 'mushroom cream sauce'}), support=0.005732568990801226, ordered_statistics=[OrderedStatistic(items_base=frozenset({'mushroom cream sauce'}), items_add=frozenset({'escalope'}), confidence=0.3006993006993007, lift=3.790832696715049)]), RelationRecord(items=frozenset({'escalope', 'pasta'}), support=0.005865884548726837, ordered_statistics=[OrderedStatistic(items_base=frozenset({'pasta'}), items_add=frozenset({'escalope'}), confidence=0.3728813559322034, lift=4.700811850163794)]), RelationRecord(items=frozenset({'fromage blanc', 'honey'}), support=0.003332888948140248, ordered_statistics=[OrderedStatistic(items_base=frozenset({'fromage blanc'}), items_add=frozenset({'honey'}), confidence=0.2450980392156863, lift=5.164270764485569)]), RelationRecord(items=frozenset({'ground beef', 'herb & pepper'}), support=0.015997866951073192, ordered_statistics=[OrderedStatistic(items_base=frozenset({'herb & pepper'}), items_add=frozenset({'ground beef'}), confidence=0.3234501347708895, lift=3.2919938411349285)]), RelationRecord(items=frozenset({'ground beef', 'tomato sauce'}), support=0.005332622317024397, ordered_statistics=[OrderedStatistic(items_base=frozenset({'tomato sauce'}), items_add=frozenset({'ground beef'}), confidence=0.3773584905660377, lift=3.840659481324083)]), RelationRecord(items=frozenset({'olive oil', 'light cream'}), support=0.003199573390214638, ordered_statistics=[OrderedStatistic(items_base=frozenset({'light cream'}), items_add=frozenset({'olive oil'}), confidence=0.20512820512820515, lift=3.1147098515519573)]), RelationRecord(items=frozenset({'olive oil', 'whole wheat pasta'}), support=0.007998933475536596, ordered_statistics=[OrderedStatistic(items_base=frozenset({'whole wheat pasta'}), items_add=frozenset({'olive oil'}), confidence=0.2714932126696833, lift=4.122410097642296)]), RelationRecord(items=frozenset({'pasta', 'shrimp'}), support=0.005065991201173177, ordered_statistics=[OrderedStatistic(items_base=frozenset({'pasta'}), items_add=frozenset({'shrimp'}), confidence=0.3220338983050847, lift=4.506672147735896)])]\n"
     ]
    }
   ],
   "source": [
    "results = list(rules)\n",
    "print(results)"
   ]
  },
  {
   "cell_type": "markdown",
   "metadata": {},
   "source": [
    "#### Putting the results well organised into a pandas dataframe"
   ]
  },
  {
   "cell_type": "code",
   "execution_count": 4,
   "metadata": {},
   "outputs": [],
   "source": [
    "def inspect(results):\n",
    "    lhs         = [tuple(result[2][0][0])[0] for result in results]\n",
    "    rhs         = [tuple(result[2][0][1])[0] for result in results]\n",
    "    supports    = [result[1] for result in results]\n",
    "    return list(zip(lhs, rhs, supports))\n",
    "resultsinDataFrame = pd.DataFrame(inspect(results), columns = ['Product 1', 'Product 2', 'Support'])"
   ]
  },
  {
   "cell_type": "markdown",
   "metadata": {},
   "source": [
    "#### Displaying the result non sorted"
   ]
  },
  {
   "cell_type": "code",
   "execution_count": 5,
   "metadata": {},
   "outputs": [
    {
     "name": "stdout",
     "output_type": "stream",
     "text": [
      "              Product 1    Product 2   Support\n",
      "0           light cream      chicken  0.004533\n",
      "1  mushroom cream sauce     escalope  0.005733\n",
      "2                 pasta     escalope  0.005866\n",
      "3         fromage blanc        honey  0.003333\n",
      "4         herb & pepper  ground beef  0.015998\n",
      "5          tomato sauce  ground beef  0.005333\n",
      "6           light cream    olive oil  0.003200\n",
      "7     whole wheat pasta    olive oil  0.007999\n",
      "8                 pasta       shrimp  0.005066\n"
     ]
    }
   ],
   "source": [
    "print(resultsinDataFrame)"
   ]
  },
  {
   "cell_type": "markdown",
   "metadata": {},
   "source": [
    "#### Displaying the result in descending order by Support"
   ]
  },
  {
   "cell_type": "code",
   "execution_count": 6,
   "metadata": {},
   "outputs": [
    {
     "name": "stdout",
     "output_type": "stream",
     "text": [
      "              Product 1    Product 2   Support\n",
      "4         herb & pepper  ground beef  0.015998\n",
      "7     whole wheat pasta    olive oil  0.007999\n",
      "2                 pasta     escalope  0.005866\n",
      "1  mushroom cream sauce     escalope  0.005733\n",
      "5          tomato sauce  ground beef  0.005333\n",
      "8                 pasta       shrimp  0.005066\n",
      "0           light cream      chicken  0.004533\n",
      "3         fromage blanc        honey  0.003333\n",
      "6           light cream    olive oil  0.003200\n"
     ]
    }
   ],
   "source": [
    "print(resultsinDataFrame.nlargest(n=10,columns = 'Support'))"
   ]
  }
 ],
 "metadata": {
  "kernelspec": {
   "display_name": "Python 3.10.7 ('mlvenv': venv)",
   "language": "python",
   "name": "python3"
  },
  "language_info": {
   "codemirror_mode": {
    "name": "ipython",
    "version": 3
   },
   "file_extension": ".py",
   "mimetype": "text/x-python",
   "name": "python",
   "nbconvert_exporter": "python",
   "pygments_lexer": "ipython3",
   "version": "3.10.7"
  },
  "orig_nbformat": 4,
  "vscode": {
   "interpreter": {
    "hash": "321334cedfa16b8be24125e5ab0e3623912f69d4b899407428e8bc07c2d3a5b0"
   }
  }
 },
 "nbformat": 4,
 "nbformat_minor": 2
}
