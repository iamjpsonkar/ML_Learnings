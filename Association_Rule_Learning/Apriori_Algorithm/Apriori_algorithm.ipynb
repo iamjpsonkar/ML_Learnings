{
 "cells": [
  {
   "cell_type": "markdown",
   "metadata": {},
   "source": [
    "## Association Rule Learning\n",
    "let's take below statements\n",
    "\n",
    ">Person Who watched Movie1 also watches Movie2.\n",
    "\n",
    ">Person Who bought product1 also buys product2.\n",
    "\n",
    "The above two statement are in the form \n",
    "\n",
    "$$ S_{1} \\rightarrow S_{2} $$\n",
    "\n",
    "<img src=\"../Movie_Recommendation.png\"/>\n",
    "\n",
    "<img src=\"../Product_Recommendation.png\"/>\n",
    "\n",
    "This type of statement are know as **Association Rule** , Basically we are associating S<sub>2</sub> with S<sub>1</sub>.\n",
    "\n",
    "These type of rules basically help in recommendation system.\n",
    "\n",
    "### Apriori Algorithim\n",
    "\n",
    "Let's take a Movie watch history data for 100 peoples.\n",
    "<img src=\"./Movie_DATA.png\"/>\n",
    "Red marked - watched Movie M<sub>1</sub>\n",
    "\n",
    "Green - watched Movie M<sub>2</sub>\n",
    "\n",
    "\n",
    "\n",
    "#### Apriori Support\n",
    "<img src=\"./Apriori_Support.png\"/>\n",
    "If out of 100 peoples, 10 watched Movie M<sub>1</sub>, then\n",
    "\n",
    "$$ Apriori \\ Support \\ for \\ M_{1} = \\frac{10}{100} = 10% $$\n",
    "\n",
    "#### Apriori Confidence\n",
    "<img src=\"./Apriori_Confidence.png\"/>\n",
    "If out of 100 peoples, 40 watched Movie M<sub>2</sub>, and out of these 40, only 7 watched M<sub>1</sub> and M<sub>2</sub>\n",
    "\n",
    "$$ Apriori \\ Confidence \\ for \\ M_{1} \\rightarrow M_{2} = \\frac{7}{40} = 17.5% $$\n",
    "\n",
    "\n",
    "#### Apriori Lift\n",
    "<img src=\"./Apriori_Lift.png\"/>\n",
    "Now suppose for a new population, if you directly recommend peoples to watch Movie M<sub>1</sub>, then there is a chance of only 10%, but if you ask first whether they have watched M<sub>2</sub> and based on the answer you recommend M<sub>1</sub>, then there is a chance of 17.5%.\n",
    "\n",
    "This is known as Apriori Lift.\n",
    "\n",
    "$$ Apriori \\ Lift \\ for \\ M_{1} \\rightarrow M_{2} = \\frac{17.5\\%}{10\\%} = 1.75% $$\n",
    "\n",
    "> Steps for Apriori Algoritnms\n",
    "<img src=\"./Apriori_Steps.png\"/>\n",
    "\n",
    "\n",
    "\n"
   ]
  },
  {
   "cell_type": "code",
   "execution_count": 16,
   "metadata": {},
   "outputs": [],
   "source": [
    "# Importing Libraries\n",
    "import numpy as np\n",
    "import pandas as pd\n",
    "import matplotlib.pyplot as plt\n",
    "\n",
    "# Importing Datasets\n",
    "dataset = pd.read_csv(\"./Datasets/Market_Basket_Optimisation.csv\", header = None)\n",
    "\n",
    "transactions = []\n",
    "for i in range(dataset.shape[0]):\n",
    "    transactions.append([str(dataset.values[i, j]) for j in range(dataset.shape[1])])\n",
    "\n",
    "# print(transactions)"
   ]
  },
  {
   "cell_type": "markdown",
   "metadata": {},
   "source": [
    "### Training Apriori Model on the dataset"
   ]
  },
  {
   "cell_type": "code",
   "execution_count": 17,
   "metadata": {},
   "outputs": [],
   "source": [
    "from apyori import apriori\n",
    "rules = apriori(transactions = transactions, min_support = 0.003, min_confidence = 0.2, min_lift = 3, min_length = 2, max_length = 2)"
   ]
  },
  {
   "cell_type": "markdown",
   "metadata": {},
   "source": [
    "### Visualizing the results"
   ]
  },
  {
   "cell_type": "markdown",
   "metadata": {},
   "source": [
    "#### Displaying the firsts result directly comming from apriori funtion"
   ]
  },
  {
   "cell_type": "code",
   "execution_count": 18,
   "metadata": {},
   "outputs": [
    {
     "name": "stdout",
     "output_type": "stream",
     "text": [
      "[RelationRecord(items=frozenset({'light cream', 'chicken'}), support=0.004532728969470737, ordered_statistics=[OrderedStatistic(items_base=frozenset({'light cream'}), items_add=frozenset({'chicken'}), confidence=0.29059829059829057, lift=4.84395061728395)]), RelationRecord(items=frozenset({'escalope', 'mushroom cream sauce'}), support=0.005732568990801226, ordered_statistics=[OrderedStatistic(items_base=frozenset({'mushroom cream sauce'}), items_add=frozenset({'escalope'}), confidence=0.3006993006993007, lift=3.790832696715049)]), RelationRecord(items=frozenset({'escalope', 'pasta'}), support=0.005865884548726837, ordered_statistics=[OrderedStatistic(items_base=frozenset({'pasta'}), items_add=frozenset({'escalope'}), confidence=0.3728813559322034, lift=4.700811850163794)]), RelationRecord(items=frozenset({'honey', 'fromage blanc'}), support=0.003332888948140248, ordered_statistics=[OrderedStatistic(items_base=frozenset({'fromage blanc'}), items_add=frozenset({'honey'}), confidence=0.2450980392156863, lift=5.164270764485569)]), RelationRecord(items=frozenset({'herb & pepper', 'ground beef'}), support=0.015997866951073192, ordered_statistics=[OrderedStatistic(items_base=frozenset({'herb & pepper'}), items_add=frozenset({'ground beef'}), confidence=0.3234501347708895, lift=3.2919938411349285)]), RelationRecord(items=frozenset({'tomato sauce', 'ground beef'}), support=0.005332622317024397, ordered_statistics=[OrderedStatistic(items_base=frozenset({'tomato sauce'}), items_add=frozenset({'ground beef'}), confidence=0.3773584905660377, lift=3.840659481324083)]), RelationRecord(items=frozenset({'light cream', 'olive oil'}), support=0.003199573390214638, ordered_statistics=[OrderedStatistic(items_base=frozenset({'light cream'}), items_add=frozenset({'olive oil'}), confidence=0.20512820512820515, lift=3.1147098515519573)]), RelationRecord(items=frozenset({'whole wheat pasta', 'olive oil'}), support=0.007998933475536596, ordered_statistics=[OrderedStatistic(items_base=frozenset({'whole wheat pasta'}), items_add=frozenset({'olive oil'}), confidence=0.2714932126696833, lift=4.122410097642296)]), RelationRecord(items=frozenset({'shrimp', 'pasta'}), support=0.005065991201173177, ordered_statistics=[OrderedStatistic(items_base=frozenset({'pasta'}), items_add=frozenset({'shrimp'}), confidence=0.3220338983050847, lift=4.506672147735896)])]\n"
     ]
    }
   ],
   "source": [
    "results = list(rules)\n",
    "print(results)"
   ]
  },
  {
   "cell_type": "markdown",
   "metadata": {},
   "source": [
    "#### Putting the results well organised into a pandas dataframe"
   ]
  },
  {
   "cell_type": "code",
   "execution_count": 19,
   "metadata": {},
   "outputs": [],
   "source": [
    "def inspect(results):\n",
    "    lhs         = [tuple(result[2][0][0])[0] for result in results]\n",
    "    rhs         = [tuple(result[2][0][1])[0] for result in results]\n",
    "    supports    = [result[1] for result in results]\n",
    "    confidences = [result[2][0][2] for result in results]\n",
    "    lifts       = [result[2][0][3] for result in results]\n",
    "    return list(zip(lhs, rhs, supports, confidences, lifts))\n",
    "resultsinDataFrame = pd.DataFrame(inspect(results), columns = ['Left Hand Side', 'Right Hand Side', 'Support', 'Confidence', 'Lift'])"
   ]
  },
  {
   "cell_type": "markdown",
   "metadata": {},
   "source": [
    "#### Displaying the result non sorted"
   ]
  },
  {
   "cell_type": "code",
   "execution_count": 21,
   "metadata": {},
   "outputs": [
    {
     "name": "stdout",
     "output_type": "stream",
     "text": [
      "         Left Hand Side Right Hand Side   Support  Confidence      Lift\n",
      "0           light cream         chicken  0.004533    0.290598  4.843951\n",
      "1  mushroom cream sauce        escalope  0.005733    0.300699  3.790833\n",
      "2                 pasta        escalope  0.005866    0.372881  4.700812\n",
      "3         fromage blanc           honey  0.003333    0.245098  5.164271\n",
      "4         herb & pepper     ground beef  0.015998    0.323450  3.291994\n",
      "5          tomato sauce     ground beef  0.005333    0.377358  3.840659\n",
      "6           light cream       olive oil  0.003200    0.205128  3.114710\n",
      "7     whole wheat pasta       olive oil  0.007999    0.271493  4.122410\n",
      "8                 pasta          shrimp  0.005066    0.322034  4.506672\n"
     ]
    }
   ],
   "source": [
    "print(resultsinDataFrame)"
   ]
  },
  {
   "cell_type": "markdown",
   "metadata": {},
   "source": [
    "#### Displaying the result in descending order by Lift"
   ]
  },
  {
   "cell_type": "code",
   "execution_count": 22,
   "metadata": {},
   "outputs": [
    {
     "name": "stdout",
     "output_type": "stream",
     "text": [
      "         Left Hand Side Right Hand Side   Support  Confidence      Lift\n",
      "3         fromage blanc           honey  0.003333    0.245098  5.164271\n",
      "0           light cream         chicken  0.004533    0.290598  4.843951\n",
      "2                 pasta        escalope  0.005866    0.372881  4.700812\n",
      "8                 pasta          shrimp  0.005066    0.322034  4.506672\n",
      "7     whole wheat pasta       olive oil  0.007999    0.271493  4.122410\n",
      "5          tomato sauce     ground beef  0.005333    0.377358  3.840659\n",
      "1  mushroom cream sauce        escalope  0.005733    0.300699  3.790833\n",
      "4         herb & pepper     ground beef  0.015998    0.323450  3.291994\n",
      "6           light cream       olive oil  0.003200    0.205128  3.114710\n"
     ]
    }
   ],
   "source": [
    "print(resultsinDataFrame.nlargest(n=10,columns = 'Lift'))"
   ]
  }
 ],
 "metadata": {
  "kernelspec": {
   "display_name": "Python 3.10.7 ('mlvenv': venv)",
   "language": "python",
   "name": "python3"
  },
  "language_info": {
   "codemirror_mode": {
    "name": "ipython",
    "version": 3
   },
   "file_extension": ".py",
   "mimetype": "text/x-python",
   "name": "python",
   "nbconvert_exporter": "python",
   "pygments_lexer": "ipython3",
   "version": "3.10.7"
  },
  "orig_nbformat": 4,
  "vscode": {
   "interpreter": {
    "hash": "321334cedfa16b8be24125e5ab0e3623912f69d4b899407428e8bc07c2d3a5b0"
   }
  }
 },
 "nbformat": 4,
 "nbformat_minor": 2
}
